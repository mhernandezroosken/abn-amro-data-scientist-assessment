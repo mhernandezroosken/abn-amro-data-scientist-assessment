{
 "cells": [
  {
   "cell_type": "code",
   "execution_count": null,
   "id": "679dc0b3-f939-48af-8244-45603ad8d2ee",
   "metadata": {},
   "outputs": [],
   "source": [
    "# general imports\n",
    "import os\n",
    "\n",
    "# conda packages\n",
    "import pandas as pd\n",
    "from pandas.tseries.offsets import DateOffset\n",
    "import matplotlib.pyplot as plt\n",
    "import matplotlib.dates as md\n",
    "import numpy as np\n",
    "from sktime.datasets import load_airline\n",
    "from sktime.forecasting.base import ForecastingHorizon\n",
    "from sktime.forecasting.arima import AutoARIMA\n",
    "\n",
    "# local imports\n",
    "from src.load_data import add_date_columns, train_val_test_split, find_incomplete_clients\n",
    "from src.plotting import plot_nr_credict_applications\n",
    "from src.arima import make_input, Arima1d\n",
    "\n",
    "# constants\n",
    "nr_train = 26\n",
    "nr_val = 3\n",
    "nr_test = 3"
   ]
  },
  {
   "cell_type": "markdown",
   "id": "d431bbd7-34c6-4766-9cde-3047078c967c",
   "metadata": {},
   "source": [
    "## Load data"
   ]
  },
  {
   "cell_type": "code",
   "execution_count": null,
   "id": "8aeba31c-8a1d-47c2-b5b0-af4c91b0c18e",
   "metadata": {},
   "outputs": [],
   "source": [
    "df_customers = pd.read_csv(os.path.join('data', 'customers.csv'))\n",
    "df_applications = pd.read_csv(os.path.join('data', 'credit_applications.csv'))"
   ]
  },
  {
   "cell_type": "markdown",
   "id": "05e8383d-e5de-4c97-9cd1-07e9c7c1ccb9",
   "metadata": {},
   "source": [
    "## Pre-process data"
   ]
  },
  {
   "cell_type": "code",
   "execution_count": null,
   "id": "335b6de6-b65c-485e-b8bd-6198ef979483",
   "metadata": {},
   "outputs": [],
   "source": [
    "df_customers = add_date_columns(df_customers)\n",
    "df_applications = add_date_columns(df_applications)"
   ]
  },
  {
   "cell_type": "markdown",
   "id": "2627fce7-ade1-4aee-9ac6-69300367f0b8",
   "metadata": {},
   "source": [
    "## Missing values:"
   ]
  },
  {
   "cell_type": "markdown",
   "id": "556136a1-a957-4fb9-848a-be1316c1a588",
   "metadata": {},
   "source": [
    "### notice that the same client-yearmonth entries are missing in both tables:\n"
   ]
  },
  {
   "cell_type": "code",
   "execution_count": null,
   "id": "cf73c668-6d67-4a50-80ca-e8ab8ea63445",
   "metadata": {},
   "outputs": [],
   "source": [
    "nr_months = np.unique(df_applications.yearmonth).shape[0]\n",
    "\n",
    "month_counts_cust = df_customers.groupby('client_nr').yearmonth.count()\n",
    "month_counts_appl = df_applications.groupby('client_nr').yearmonth.count()\n",
    "\n",
    "missing_in_cust = month_counts_cust < nr_months\n",
    "missing_in_appl = month_counts_appl < nr_months\n",
    "\n",
    "display(month_counts_cust[missing_in_cust])\n",
    "display(month_counts_appl[missing_in_appl])"
   ]
  },
  {
   "cell_type": "code",
   "execution_count": null,
   "id": "741ed03d-6245-4204-997a-2989893df982",
   "metadata": {},
   "outputs": [],
   "source": [
    "df_applications[df_applications.client_nr == 68]"
   ]
  },
  {
   "cell_type": "markdown",
   "id": "8deb926b-d682-4f4a-989e-24147438fb85",
   "metadata": {},
   "source": [
    "### Remove customers which have missing values of nr_credit_applications"
   ]
  },
  {
   "cell_type": "code",
   "execution_count": null,
   "id": "0c712412-84ce-4ad2-8fd8-e9ab7533554c",
   "metadata": {},
   "outputs": [],
   "source": [
    "complete_clients, incomplete_clients = find_incomplete_clients(df_applications, df_customers)"
   ]
  },
  {
   "cell_type": "code",
   "execution_count": null,
   "id": "baf452a1-137e-41e0-9260-8af51e27c17e",
   "metadata": {},
   "outputs": [],
   "source": [
    "df_applications = df_applications[\n",
    "    df_applications.client_nr.isin(complete_clients)\n",
    "]\n",
    "df_customers = df_customers[\n",
    "    df_customers.client_nr.isin(complete_clients)\n",
    "]"
   ]
  },
  {
   "cell_type": "markdown",
   "id": "50a0bdab-e8e9-4c7c-8ddd-e7520b82eacf",
   "metadata": {},
   "source": [
    "## Train / Val / Test split"
   ]
  },
  {
   "cell_type": "code",
   "execution_count": null,
   "id": "4f61412f-6300-4aef-9c72-24e435447364",
   "metadata": {},
   "outputs": [],
   "source": [
    "# make train/val/test splits\n",
    "df_cust_train, df_cust_val, df_cust_tv, df_cust_test = train_val_test_split(\n",
    "    df_customers, nr_train, nr_val, nr_test\n",
    ")\n",
    "df_appl_train, df_appl_val, df_appl_tv, df_appl_test = train_val_test_split(\n",
    "    df_applications, nr_train, nr_val, nr_test\n",
    ")\n",
    "\n",
    "# visualize the train/val set:\n",
    "display(df_cust_tv)"
   ]
  },
  {
   "cell_type": "code",
   "execution_count": null,
   "id": "c2b42901-3e59-4768-acc0-4578d3a7aa3c",
   "metadata": {},
   "outputs": [],
   "source": [
    "display(df_appl_tv)"
   ]
  },
  {
   "cell_type": "markdown",
   "id": "c0f80f3d-ca55-4b7e-afea-ea3d52bd1d13",
   "metadata": {},
   "source": [
    "## Visualize"
   ]
  },
  {
   "cell_type": "markdown",
   "id": "f4ee1dd1-5d27-4a00-93e3-8467404d56fb",
   "metadata": {},
   "source": [
    "### Total number of credit applications"
   ]
  },
  {
   "cell_type": "code",
   "execution_count": null,
   "id": "5ace167a-5498-4ed3-82e0-e100122a2947",
   "metadata": {},
   "outputs": [],
   "source": [
    "# plot all companies:\n",
    "nr_credit_applications = df_appl_tv.groupby(['yearmonth_dt']).nr_credit_applications.sum()\n",
    "volume_credit_trx = df_cust_tv.groupby(['yearmonth_dt']).volume_credit_trx.sum()\n",
    "volume_debit_trx = df_cust_tv.groupby(['yearmonth_dt']).volume_debit_trx.sum()\n",
    "total_nr_trx = df_cust_tv.groupby(['yearmonth_dt']).total_nr_trx.sum()\n",
    "# plot_nr_credict_applications(total_nr_applications, 'All companies')"
   ]
  },
  {
   "cell_type": "code",
   "execution_count": null,
   "id": "9f87374c-6834-45b4-b7ec-983c5af62db6",
   "metadata": {},
   "outputs": [],
   "source": [
    "fig, axs = plt.subplots(nrows=4, figsize=(7.5, 8.5))\n",
    "\n",
    "plt.tight_layout(pad=3.0)\n",
    "\n",
    "axs[0].set_title('Number of Applications')\n",
    "axs[0].set_xlabel('')\n",
    "axs[0].set_ylabel('Applications')\n",
    "l0, = axs[0].plot(nr_credit_applications)\n",
    "\n",
    "axs[1].set_title('Volume of Credit Transactions')\n",
    "axs[1].set_xlabel('')\n",
    "axs[1].set_ylabel('Euros')\n",
    "l1, = axs[1].plot(volume_credit_trx)\n",
    "l1.set_color('r')\n",
    "\n",
    "axs[2].set_title('Volume of Debit Transactions')\n",
    "axs[2].set_xlabel('')\n",
    "axs[2].set_ylabel('Euros')\n",
    "l2, = axs[2].plot(volume_debit_trx)\n",
    "l2.set_color('g')\n",
    "\n",
    "axs[3].set_title('Total Number of Transactions')\n",
    "axs[3].set_xlabel('')\n",
    "axs[3].set_ylabel('')\n",
    "l3, = axs[3].plot(total_nr_trx)\n",
    "l3.set_color('y')\n",
    "\n",
    "\n",
    "\n",
    "# ax.xaxis.set_major_locator(\n",
    "#     md.MonthLocator() # show one tick per quarter\n",
    "# )\n",
    "# ax.xaxis.set_major_formatter(\n",
    "#     md.DateFormatter('%m-%Y')\n",
    "# )\n",
    "plt.savefig('plots/all_clients.png')\n",
    "plt.show()"
   ]
  },
  {
   "cell_type": "code",
   "execution_count": null,
   "id": "a0762a27-cd6f-4c52-9b67-16089a5d7ce2",
   "metadata": {},
   "outputs": [],
   "source": []
  },
  {
   "cell_type": "markdown",
   "id": "39c8892b-480b-40d4-a52b-1e40615d177a",
   "metadata": {},
   "source": [
    "### Number of applications per client\n"
   ]
  },
  {
   "cell_type": "code",
   "execution_count": null,
   "id": "a057e398-e366-4e82-999b-a16d88eb2258",
   "metadata": {},
   "outputs": [],
   "source": [
    "appl_per_client = df_appl_tv.groupby(['client_nr']).nr_credit_applications.sum()\n",
    "appl_per_client[appl_per_client > 0]"
   ]
  },
  {
   "cell_type": "code",
   "execution_count": null,
   "id": "66afde47-ae40-4891-8bba-cd2d77ab52a8",
   "metadata": {},
   "outputs": [],
   "source": [
    "# plot company three:\n",
    "company_three = df_appl_tv[df_appl_tv.client_nr == 3]\n",
    "company_three_nr_applications = company_three.groupby(['yearmonth_dt']).nr_credit_applications.sum()\n",
    "fix, ax = plt.subplots(figsize=(8, 4))\n",
    "ax.plot(company_three_nr_applications, 'ro')\n",
    "plt.title('Client #3')\n",
    "ax.set_xlabel('')\n",
    "ax.set_ylabel('Applications')\n",
    "plt.savefig('plots/client_nr3_applications.png')\n",
    "plt.show()"
   ]
  },
  {
   "cell_type": "code",
   "execution_count": null,
   "id": "9b86f1c2-3a15-4929-b642-0fafe8f3299f",
   "metadata": {},
   "outputs": [],
   "source": []
  }
 ],
 "metadata": {
  "kernelspec": {
   "display_name": "Python 3 (ipykernel)",
   "language": "python",
   "name": "python3"
  },
  "language_info": {
   "codemirror_mode": {
    "name": "ipython",
    "version": 3
   },
   "file_extension": ".py",
   "mimetype": "text/x-python",
   "name": "python",
   "nbconvert_exporter": "python",
   "pygments_lexer": "ipython3",
   "version": "3.8.13"
  }
 },
 "nbformat": 4,
 "nbformat_minor": 5
}
